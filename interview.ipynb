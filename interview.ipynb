{
 "cells": [
  {
   "cell_type": "code",
   "execution_count": 14,
   "id": "9295398c",
   "metadata": {},
   "outputs": [
    {
     "name": "stdout",
     "output_type": "stream",
     "text": [
      "['abbcd', 'abbergh', 'abbjst']\n"
     ]
    }
   ],
   "source": [
    "longest common prefix\n",
    "find frequent elements\n",
    "what is mulitiple inheritance \n",
    "what is polymorphism\n",
    "expalin polymorphism\n",
    "what are abstract methods\n",
    "select nth highest salary from table\n",
    "what are 3nf what are its rules\n",
    "what are joins\n",
    "reverse a string\n",
    "best way to reverse an array\n",
    "find occuremce??\n",
    "sql keys unique key joins\n",
    "array of 0s and 1s find number of ones\n",
    "what is ml,dl,difference between ml and dl\n",
    "\n",
    "\n",
    "\n",
    "\n"
   ]
  },
  {
   "cell_type": "code",
   "execution_count": 16,
   "id": "b2391f3f",
   "metadata": {},
   "outputs": [],
   "source": [
    "z=[1,4,4,6,6,6,8,9,9,9,9,9,12]"
   ]
  },
  {
   "cell_type": "code",
   "execution_count": 17,
   "id": "1b90d0c6",
   "metadata": {},
   "outputs": [
    {
     "data": {
      "text/plain": [
       "3"
      ]
     },
     "execution_count": 17,
     "metadata": {},
     "output_type": "execute_result"
    }
   ],
   "source": [
    "z.count(6)"
   ]
  },
  {
   "cell_type": "code",
   "execution_count": 21,
   "id": "ecab43e4",
   "metadata": {},
   "outputs": [
    {
     "ename": "TypeError",
     "evalue": "unsupported operand type(s) for +: 'Solution' and 'int'",
     "output_type": "error",
     "traceback": [
      "\u001b[0;31m---------------------------------------------------------------------------\u001b[0m",
      "\u001b[0;31mTypeError\u001b[0m                                 Traceback (most recent call last)",
      "Input \u001b[0;32mIn [21]\u001b[0m, in \u001b[0;36m<cell line: 8>\u001b[0;34m()\u001b[0m\n\u001b[1;32m      5\u001b[0m         \u001b[38;5;28mprint\u001b[39m(num1\u001b[38;5;241m+\u001b[39mnum2\u001b[38;5;241m+\u001b[39mnum3)\n\u001b[1;32m      7\u001b[0m s\u001b[38;5;241m=\u001b[39mSolution()\n\u001b[0;32m----> 8\u001b[0m \u001b[43ms\u001b[49m\u001b[38;5;241;43m.\u001b[39;49m\u001b[43madd\u001b[49m\u001b[43m(\u001b[49m\u001b[38;5;241;43m1\u001b[39;49m\u001b[43m,\u001b[49m\u001b[38;5;241;43m2\u001b[39;49m\u001b[43m)\u001b[49m\n",
      "Input \u001b[0;32mIn [21]\u001b[0m, in \u001b[0;36mSolution.add\u001b[0;34m(num1, num2, num3)\u001b[0m\n\u001b[1;32m      4\u001b[0m \u001b[38;5;28;01mdef\u001b[39;00m \u001b[38;5;21madd\u001b[39m(num1,num2,num3):\n\u001b[0;32m----> 5\u001b[0m     \u001b[38;5;28mprint\u001b[39m(\u001b[43mnum1\u001b[49m\u001b[38;5;241;43m+\u001b[39;49m\u001b[43mnum2\u001b[49m\u001b[38;5;241m+\u001b[39mnum3)\n",
      "\u001b[0;31mTypeError\u001b[0m: unsupported operand type(s) for +: 'Solution' and 'int'"
     ]
    }
   ],
   "source": [
    "select salary from employee\n",
    "group by salary desc limit 1,5"
   ]
  },
  {
   "cell_type": "code",
   "execution_count": 1,
   "id": "fcccd49c",
   "metadata": {},
   "outputs": [],
   "source": [
    "arr=[\"sairaj\",\"sai\",\"saikumar\"]\n",
    "arr.sort()\n",
    "arr"
   ]
  },
  {
   "cell_type": "code",
   "execution_count": 1,
   "id": "0d3c0fca",
   "metadata": {},
   "outputs": [
    {
     "ename": "NameError",
     "evalue": "name 'python' is not defined",
     "output_type": "error",
     "traceback": [
      "\u001b[0;31m---------------------------------------------------------------------------\u001b[0m",
      "\u001b[0;31mNameError\u001b[0m                                 Traceback (most recent call last)",
      "Input \u001b[0;32mIn [1]\u001b[0m, in \u001b[0;36m<cell line: 1>\u001b[0;34m()\u001b[0m\n\u001b[0;32m----> 1\u001b[0m \u001b[43mpython\u001b[49m\u001b[38;5;241m.\u001b[39mversion\n",
      "\u001b[0;31mNameError\u001b[0m: name 'python' is not defined"
     ]
    }
   ],
   "source": [
    "python.version"
   ]
  },
  {
   "cell_type": "code",
   "execution_count": 2,
   "id": "39c60b99",
   "metadata": {},
   "outputs": [
    {
     "ename": "NameError",
     "evalue": "name 'python3' is not defined",
     "output_type": "error",
     "traceback": [
      "\u001b[0;31m---------------------------------------------------------------------------\u001b[0m",
      "\u001b[0;31mNameError\u001b[0m                                 Traceback (most recent call last)",
      "Input \u001b[0;32mIn [2]\u001b[0m, in \u001b[0;36m<cell line: 1>\u001b[0;34m()\u001b[0m\n\u001b[0;32m----> 1\u001b[0m \u001b[43mpython3\u001b[49m \u001b[38;5;241m-\u001b[39m\u001b[38;5;241m-\u001b[39mversion\n",
      "\u001b[0;31mNameError\u001b[0m: name 'python3' is not defined"
     ]
    }
   ],
   "source": [
    "python3 --version"
   ]
  },
  {
   "cell_type": "code",
   "execution_count": 3,
   "id": "da9f2dad",
   "metadata": {},
   "outputs": [
    {
     "ename": "NameError",
     "evalue": "name 'python3' is not defined",
     "output_type": "error",
     "traceback": [
      "\u001b[0;31m---------------------------------------------------------------------------\u001b[0m",
      "\u001b[0;31mNameError\u001b[0m                                 Traceback (most recent call last)",
      "Input \u001b[0;32mIn [3]\u001b[0m, in \u001b[0;36m<cell line: 1>\u001b[0;34m()\u001b[0m\n\u001b[0;32m----> 1\u001b[0m \u001b[43mpython3\u001b[49m \u001b[38;5;241m-\u001b[39m\u001b[38;5;241m-\u001b[39mversion\n",
      "\u001b[0;31mNameError\u001b[0m: name 'python3' is not defined"
     ]
    }
   ],
   "source": [
    "python3 --version\n"
   ]
  },
  {
   "cell_type": "code",
   "execution_count": 1,
   "id": "0aeba2a4",
   "metadata": {},
   "outputs": [
    {
     "ename": "NameError",
     "evalue": "name 'python' is not defined",
     "output_type": "error",
     "traceback": [
      "\u001b[0;31m---------------------------------------------------------------------------\u001b[0m",
      "\u001b[0;31mNameError\u001b[0m                                 Traceback (most recent call last)",
      "Input \u001b[0;32mIn [1]\u001b[0m, in \u001b[0;36m<cell line: 1>\u001b[0;34m()\u001b[0m\n\u001b[0;32m----> 1\u001b[0m \u001b[43mpython\u001b[49m \u001b[38;5;241m-\u001b[39mversion\n",
      "\u001b[0;31mNameError\u001b[0m: name 'python' is not defined"
     ]
    }
   ],
   "source": [
    "python -version\n"
   ]
  },
  {
   "cell_type": "code",
   "execution_count": null,
   "id": "1317645b",
   "metadata": {},
   "outputs": [
    {
     "name": "stdout",
     "output_type": "stream",
     "text": [
      "import _frozen_importlib # frozen\r\n",
      "import _imp # builtin\r\n",
      "import '_thread' # <class '_frozen_importlib.BuiltinImporter'>\r\n",
      "import '_warnings' # <class '_frozen_importlib.BuiltinImporter'>\r\n",
      "import '_weakref' # <class '_frozen_importlib.BuiltinImporter'>\r\n",
      "import '_io' # <class '_frozen_importlib.BuiltinImporter'>\r\n",
      "import 'marshal' # <class '_frozen_importlib.BuiltinImporter'>\r\n",
      "import 'posix' # <class '_frozen_importlib.BuiltinImporter'>\r\n",
      "import '_frozen_importlib_external' # <class '_frozen_importlib.FrozenImporter'>\r\n",
      "# installing zipimport hook\r\n",
      "import 'time' # <class '_frozen_importlib.BuiltinImporter'>\r\n",
      "import 'zipimport' # <class '_frozen_importlib.FrozenImporter'>\r\n",
      "# installed zipimport hook\r\n",
      "# /Users/sairajpotluri/opt/anaconda3/lib/python3.9/encodings/__pycache__/__init__.cpython-39.pyc matches /Users/sairajpotluri/opt/anaconda3/lib/python3.9/encodings/__init__.py\r\n",
      "# code object from '/Users/sairajpotluri/opt/anaconda3/lib/python3.9/encodings/__pycache__/__init__.cpython-39.pyc'\r\n",
      "# /Users/sairajpotluri/opt/anaconda3/lib/python3.9/__pycache__/codecs.cpython-39.pyc matches /Users/sairajpotluri/opt/anaconda3/lib/python3.9/codecs.py\r\n",
      "# code object from '/Users/sairajpotluri/opt/anaconda3/lib/python3.9/__pycache__/codecs.cpython-39.pyc'\r\n",
      "import '_codecs' # <class '_frozen_importlib.BuiltinImporter'>\r\n",
      "import 'codecs' # <_frozen_importlib_external.SourceFileLoader object at 0x7fc2410d1f70>\r\n",
      "# /Users/sairajpotluri/opt/anaconda3/lib/python3.9/encodings/__pycache__/aliases.cpython-39.pyc matches /Users/sairajpotluri/opt/anaconda3/lib/python3.9/encodings/aliases.py\r\n",
      "# code object from '/Users/sairajpotluri/opt/anaconda3/lib/python3.9/encodings/__pycache__/aliases.cpython-39.pyc'\r\n",
      "import 'encodings.aliases' # <_frozen_importlib_external.SourceFileLoader object at 0x7fc24162a610>\r\n",
      "import 'encodings' # <_frozen_importlib_external.SourceFileLoader object at 0x7fc2410d1e50>\r\n",
      "# /Users/sairajpotluri/opt/anaconda3/lib/python3.9/encodings/__pycache__/utf_8.cpython-39.pyc matches /Users/sairajpotluri/opt/anaconda3/lib/python3.9/encodings/utf_8.py\r\n",
      "# code object from '/Users/sairajpotluri/opt/anaconda3/lib/python3.9/encodings/__pycache__/utf_8.cpython-39.pyc'\r\n",
      "import 'encodings.utf_8' # <_frozen_importlib_external.SourceFileLoader object at 0x7fc2410d1d30>\r\n",
      "import '_signal' # <class '_frozen_importlib.BuiltinImporter'>\r\n",
      "# /Users/sairajpotluri/opt/anaconda3/lib/python3.9/encodings/__pycache__/latin_1.cpython-39.pyc matches /Users/sairajpotluri/opt/anaconda3/lib/python3.9/encodings/latin_1.py\r\n",
      "# code object from '/Users/sairajpotluri/opt/anaconda3/lib/python3.9/encodings/__pycache__/latin_1.cpython-39.pyc'\r\n",
      "import 'encodings.latin_1' # <_frozen_importlib_external.SourceFileLoader object at 0x7fc24162a6d0>\r\n",
      "# /Users/sairajpotluri/opt/anaconda3/lib/python3.9/__pycache__/io.cpython-39.pyc matches /Users/sairajpotluri/opt/anaconda3/lib/python3.9/io.py\r\n",
      "# code object from '/Users/sairajpotluri/opt/anaconda3/lib/python3.9/__pycache__/io.cpython-39.pyc'\r\n",
      "# /Users/sairajpotluri/opt/anaconda3/lib/python3.9/__pycache__/abc.cpython-39.pyc matches /Users/sairajpotluri/opt/anaconda3/lib/python3.9/abc.py\r\n",
      "# code object from '/Users/sairajpotluri/opt/anaconda3/lib/python3.9/__pycache__/abc.cpython-39.pyc'\r\n",
      "import '_abc' # <class '_frozen_importlib.BuiltinImporter'>\r\n",
      "import 'abc' # <_frozen_importlib_external.SourceFileLoader object at 0x7fc24162ab80>\r\n",
      "import 'io' # <_frozen_importlib_external.SourceFileLoader object at 0x7fc24162a8b0>\r\n",
      "# /Users/sairajpotluri/opt/anaconda3/lib/python3.9/__pycache__/site.cpython-39.pyc matches /Users/sairajpotluri/opt/anaconda3/lib/python3.9/site.py\r\n",
      "# code object from '/Users/sairajpotluri/opt/anaconda3/lib/python3.9/__pycache__/site.cpython-39.pyc'\r\n",
      "# /Users/sairajpotluri/opt/anaconda3/lib/python3.9/__pycache__/os.cpython-39.pyc matches /Users/sairajpotluri/opt/anaconda3/lib/python3.9/os.py\r\n",
      "# code object from '/Users/sairajpotluri/opt/anaconda3/lib/python3.9/__pycache__/os.cpython-39.pyc'\r\n",
      "# /Users/sairajpotluri/opt/anaconda3/lib/python3.9/__pycache__/stat.cpython-39.pyc matches /Users/sairajpotluri/opt/anaconda3/lib/python3.9/stat.py\r\n",
      "# code object from '/Users/sairajpotluri/opt/anaconda3/lib/python3.9/__pycache__/stat.cpython-39.pyc'\r\n",
      "import '_stat' # <class '_frozen_importlib.BuiltinImporter'>\r\n",
      "import 'stat' # <_frozen_importlib_external.SourceFileLoader object at 0x7fc2416c2430>\r\n",
      "# /Users/sairajpotluri/opt/anaconda3/lib/python3.9/__pycache__/_collections_abc.cpython-39.pyc matches /Users/sairajpotluri/opt/anaconda3/lib/python3.9/_collections_abc.py\r\n",
      "# code object from '/Users/sairajpotluri/opt/anaconda3/lib/python3.9/__pycache__/_collections_abc.cpython-39.pyc'\r\n",
      "import '_collections_abc' # <_frozen_importlib_external.SourceFileLoader object at 0x7fc2416c24c0>\r\n",
      "# /Users/sairajpotluri/opt/anaconda3/lib/python3.9/__pycache__/posixpath.cpython-39.pyc matches /Users/sairajpotluri/opt/anaconda3/lib/python3.9/posixpath.py\r\n",
      "# code object from '/Users/sairajpotluri/opt/anaconda3/lib/python3.9/__pycache__/posixpath.cpython-39.pyc'\r\n",
      "# /Users/sairajpotluri/opt/anaconda3/lib/python3.9/__pycache__/genericpath.cpython-39.pyc matches /Users/sairajpotluri/opt/anaconda3/lib/python3.9/genericpath.py\r\n",
      "# code object from '/Users/sairajpotluri/opt/anaconda3/lib/python3.9/__pycache__/genericpath.cpython-39.pyc'\r\n",
      "import 'genericpath' # <_frozen_importlib_external.SourceFileLoader object at 0x7fc2416e7af0>\r\n",
      "import 'posixpath' # <_frozen_importlib_external.SourceFileLoader object at 0x7fc2416c2be0>\r\n",
      "import 'os' # <_frozen_importlib_external.SourceFileLoader object at 0x7fc241645b20>\r\n",
      "# /Users/sairajpotluri/opt/anaconda3/lib/python3.9/__pycache__/_sitebuiltins.cpython-39.pyc matches /Users/sairajpotluri/opt/anaconda3/lib/python3.9/_sitebuiltins.py\r\n",
      "# code object from '/Users/sairajpotluri/opt/anaconda3/lib/python3.9/__pycache__/_sitebuiltins.cpython-39.pyc'\r\n",
      "import '_sitebuiltins' # <_frozen_importlib_external.SourceFileLoader object at 0x7fc2416baee0>\r\n",
      "# /Users/sairajpotluri/opt/anaconda3/lib/python3.9/__pycache__/_bootlocale.cpython-39.pyc matches /Users/sairajpotluri/opt/anaconda3/lib/python3.9/_bootlocale.py\r\n",
      "# code object from '/Users/sairajpotluri/opt/anaconda3/lib/python3.9/__pycache__/_bootlocale.cpython-39.pyc'\r\n",
      "import '_locale' # <class '_frozen_importlib.BuiltinImporter'>\r\n",
      "import '_bootlocale' # <_frozen_importlib_external.SourceFileLoader object at 0x7fc2416e7fa0>\r\n",
      "# /Users/sairajpotluri/opt/anaconda3/lib/python3.9/site-packages/_distutils_hack/__pycache__/__init__.cpython-39.pyc matches /Users/sairajpotluri/opt/anaconda3/lib/python3.9/site-packages/_distutils_hack/__init__.py\r\n",
      "# code object from '/Users/sairajpotluri/opt/anaconda3/lib/python3.9/site-packages/_distutils_hack/__pycache__/__init__.cpython-39.pyc'\r\n",
      "import '_distutils_hack' # <_frozen_importlib_external.SourceFileLoader object at 0x7fc244930cd0>\r\n",
      "# /Users/sairajpotluri/opt/anaconda3/lib/python3.9/__pycache__/types.cpython-39.pyc matches /Users/sairajpotluri/opt/anaconda3/lib/python3.9/types.py\r\n",
      "# code object from '/Users/sairajpotluri/opt/anaconda3/lib/python3.9/__pycache__/types.cpython-39.pyc'\r\n",
      "import 'types' # <_frozen_importlib_external.SourceFileLoader object at 0x7fc2449598e0>\r\n",
      "# /Users/sairajpotluri/opt/anaconda3/lib/python3.9/importlib/__pycache__/__init__.cpython-39.pyc matches /Users/sairajpotluri/opt/anaconda3/lib/python3.9/importlib/__init__.py\r\n",
      "# code object from '/Users/sairajpotluri/opt/anaconda3/lib/python3.9/importlib/__pycache__/__init__.cpython-39.pyc'\r\n",
      "# /Users/sairajpotluri/opt/anaconda3/lib/python3.9/__pycache__/warnings.cpython-39.pyc matches /Users/sairajpotluri/opt/anaconda3/lib/python3.9/warnings.py\r\n",
      "# code object from '/Users/sairajpotluri/opt/anaconda3/lib/python3.9/__pycache__/warnings.cpython-39.pyc'\r\n",
      "import 'warnings' # <_frozen_importlib_external.SourceFileLoader object at 0x7fc2449589a0>\r\n",
      "import 'importlib' # <_frozen_importlib_external.SourceFileLoader object at 0x7fc244958f40>\r\n",
      "# /Users/sairajpotluri/opt/anaconda3/lib/python3.9/importlib/__pycache__/util.cpython-39.pyc matches /Users/sairajpotluri/opt/anaconda3/lib/python3.9/importlib/util.py\r\n",
      "# code object from '/Users/sairajpotluri/opt/anaconda3/lib/python3.9/importlib/__pycache__/util.cpython-39.pyc'\r\n",
      "# /Users/sairajpotluri/opt/anaconda3/lib/python3.9/importlib/__pycache__/abc.cpython-39.pyc matches /Users/sairajpotluri/opt/anaconda3/lib/python3.9/importlib/abc.py\r\n",
      "# code object from '/Users/sairajpotluri/opt/anaconda3/lib/python3.9/importlib/__pycache__/abc.cpython-39.pyc'\r\n",
      "# /Users/sairajpotluri/opt/anaconda3/lib/python3.9/importlib/__pycache__/machinery.cpython-39.pyc matches /Users/sairajpotluri/opt/anaconda3/lib/python3.9/importlib/machinery.py\r\n",
      "# code object from '/Users/sairajpotluri/opt/anaconda3/lib/python3.9/importlib/__pycache__/machinery.cpython-39.pyc'\r\n",
      "import 'importlib.machinery' # <_frozen_importlib_external.SourceFileLoader object at 0x7fc24497b550>\r\n",
      "# /Users/sairajpotluri/opt/anaconda3/lib/python3.9/__pycache__/typing.cpython-39.pyc matches /Users/sairajpotluri/opt/anaconda3/lib/python3.9/typing.py\r\n",
      "# code object from '/Users/sairajpotluri/opt/anaconda3/lib/python3.9/__pycache__/typing.cpython-39.pyc'\r\n",
      "# /Users/sairajpotluri/opt/anaconda3/lib/python3.9/collections/__pycache__/__init__.cpython-39.pyc matches /Users/sairajpotluri/opt/anaconda3/lib/python3.9/collections/__init__.py\r\n",
      "# code object from '/Users/sairajpotluri/opt/anaconda3/lib/python3.9/collections/__pycache__/__init__.cpython-39.pyc'\r\n",
      "# /Users/sairajpotluri/opt/anaconda3/lib/python3.9/__pycache__/heapq.cpython-39.pyc matches /Users/sairajpotluri/opt/anaconda3/lib/python3.9/heapq.py\r\n",
      "# code object from '/Users/sairajpotluri/opt/anaconda3/lib/python3.9/__pycache__/heapq.cpython-39.pyc'\r\n",
      "# extension module '_heapq' loaded from '/Users/sairajpotluri/opt/anaconda3/lib/python3.9/lib-dynload/_heapq.cpython-39-darwin.so'\r\n",
      "# extension module '_heapq' executed from '/Users/sairajpotluri/opt/anaconda3/lib/python3.9/lib-dynload/_heapq.cpython-39-darwin.so'\r\n",
      "import '_heapq' # <_frozen_importlib_external.ExtensionFileLoader object at 0x7fc2449bbbb0>\r\n",
      "import 'heapq' # <_frozen_importlib_external.SourceFileLoader object at 0x7fc2449bb6a0>\r\n",
      "import 'itertools' # <class '_frozen_importlib.BuiltinImporter'>\r\n",
      "# /Users/sairajpotluri/opt/anaconda3/lib/python3.9/__pycache__/keyword.cpython-39.pyc matches /Users/sairajpotluri/opt/anaconda3/lib/python3.9/keyword.py\r\n",
      "# code object from '/Users/sairajpotluri/opt/anaconda3/lib/python3.9/__pycache__/keyword.cpython-39.pyc'\r\n",
      "import 'keyword' # <_frozen_importlib_external.SourceFileLoader object at 0x7fc2449bbca0>\r\n",
      "# /Users/sairajpotluri/opt/anaconda3/lib/python3.9/__pycache__/operator.cpython-39.pyc matches /Users/sairajpotluri/opt/anaconda3/lib/python3.9/operator.py\r\n",
      "# code object from '/Users/sairajpotluri/opt/anaconda3/lib/python3.9/__pycache__/operator.cpython-39.pyc'\r\n",
      "import '_operator' # <class '_frozen_importlib.BuiltinImporter'>\r\n",
      "import 'operator' # <_frozen_importlib_external.SourceFileLoader object at 0x7fc2449bbd60>\r\n",
      "# /Users/sairajpotluri/opt/anaconda3/lib/python3.9/__pycache__/reprlib.cpython-39.pyc matches /Users/sairajpotluri/opt/anaconda3/lib/python3.9/reprlib.py\r\n",
      "# code object from '/Users/sairajpotluri/opt/anaconda3/lib/python3.9/__pycache__/reprlib.cpython-39.pyc'\r\n",
      "import 'reprlib' # <_frozen_importlib_external.SourceFileLoader object at 0x7fc2449bbe20>\r\n",
      "import '_collections' # <class '_frozen_importlib.BuiltinImporter'>\r\n",
      "import 'collections' # <_frozen_importlib_external.SourceFileLoader object at 0x7fc24499eb20>\r\n",
      "# /Users/sairajpotluri/opt/anaconda3/lib/python3.9/collections/__pycache__/abc.cpython-39.pyc matches /Users/sairajpotluri/opt/anaconda3/lib/python3.9/collections/abc.py\r\n",
      "# code object from '/Users/sairajpotluri/opt/anaconda3/lib/python3.9/collections/__pycache__/abc.cpython-39.pyc'\r\n",
      "import 'collections.abc' # <_frozen_importlib_external.SourceFileLoader object at 0x7fc24499eeb0>\r\n",
      "# /Users/sairajpotluri/opt/anaconda3/lib/python3.9/__pycache__/contextlib.cpython-39.pyc matches /Users/sairajpotluri/opt/anaconda3/lib/python3.9/contextlib.py\r\n",
      "# code object from '/Users/sairajpotluri/opt/anaconda3/lib/python3.9/__pycache__/contextlib.cpython-39.pyc'\r\n",
      "# /Users/sairajpotluri/opt/anaconda3/lib/python3.9/__pycache__/functools.cpython-39.pyc matches /Users/sairajpotluri/opt/anaconda3/lib/python3.9/functools.py\r\n",
      "# code object from '/Users/sairajpotluri/opt/anaconda3/lib/python3.9/__pycache__/functools.cpython-39.pyc'\r\n",
      "import '_functools' # <class '_frozen_importlib.BuiltinImporter'>\r\n",
      "import 'functools' # <_frozen_importlib_external.SourceFileLoader object at 0x7fc2449d17c0>\r\n",
      "import 'contextlib' # <_frozen_importlib_external.SourceFileLoader object at 0x7fc24499ecd0>\r\n",
      "# /Users/sairajpotluri/opt/anaconda3/lib/python3.9/__pycache__/re.cpython-39.pyc matches /Users/sairajpotluri/opt/anaconda3/lib/python3.9/re.py\r\n",
      "# code object from '/Users/sairajpotluri/opt/anaconda3/lib/python3.9/__pycache__/re.cpython-39.pyc'\r\n",
      "# /Users/sairajpotluri/opt/anaconda3/lib/python3.9/__pycache__/enum.cpython-39.pyc matches /Users/sairajpotluri/opt/anaconda3/lib/python3.9/enum.py\r\n",
      "# code object from '/Users/sairajpotluri/opt/anaconda3/lib/python3.9/__pycache__/enum.cpython-39.pyc'\r\n",
      "import 'enum' # <_frozen_importlib_external.SourceFileLoader object at 0x7fc2449f89a0>\r\n",
      "# /Users/sairajpotluri/opt/anaconda3/lib/python3.9/__pycache__/sre_compile.cpython-39.pyc matches /Users/sairajpotluri/opt/anaconda3/lib/python3.9/sre_compile.py\r\n",
      "# code object from '/Users/sairajpotluri/opt/anaconda3/lib/python3.9/__pycache__/sre_compile.cpython-39.pyc'\r\n",
      "import '_sre' # <class '_frozen_importlib.BuiltinImporter'>\r\n",
      "# /Users/sairajpotluri/opt/anaconda3/lib/python3.9/__pycache__/sre_parse.cpython-39.pyc matches /Users/sairajpotluri/opt/anaconda3/lib/python3.9/sre_parse.py\r\n",
      "# code object from '/Users/sairajpotluri/opt/anaconda3/lib/python3.9/__pycache__/sre_parse.cpython-39.pyc'\r\n",
      "# /Users/sairajpotluri/opt/anaconda3/lib/python3.9/__pycache__/sre_constants.cpython-39.pyc matches /Users/sairajpotluri/opt/anaconda3/lib/python3.9/sre_constants.py\r\n",
      "# code object from '/Users/sairajpotluri/opt/anaconda3/lib/python3.9/__pycache__/sre_constants.cpython-39.pyc'\r\n",
      "import 'sre_constants' # <_frozen_importlib_external.SourceFileLoader object at 0x7fc244a2b250>\r\n",
      "import 'sre_parse' # <_frozen_importlib_external.SourceFileLoader object at 0x7fc244a1b820>\r\n",
      "import 'sre_compile' # <_frozen_importlib_external.SourceFileLoader object at 0x7fc244a09f70>\r\n",
      "# /Users/sairajpotluri/opt/anaconda3/lib/python3.9/__pycache__/copyreg.cpython-39.pyc matches /Users/sairajpotluri/opt/anaconda3/lib/python3.9/copyreg.py\r\n",
      "# code object from '/Users/sairajpotluri/opt/anaconda3/lib/python3.9/__pycache__/copyreg.cpython-39.pyc'\r\n",
      "import 'copyreg' # <_frozen_importlib_external.SourceFileLoader object at 0x7fc244a349a0>\r\n",
      "import 're' # <_frozen_importlib_external.SourceFileLoader object at 0x7fc2449bb520>\r\n",
      "import 'typing' # <_frozen_importlib_external.SourceFileLoader object at 0x7fc24497b820>\r\n",
      "import 'importlib.abc' # <_frozen_importlib_external.SourceFileLoader object at 0x7fc24495b5e0>\r\n",
      "import 'importlib.util' # <_frozen_importlib_external.SourceFileLoader object at 0x7fc244958df0>\r\n",
      "# possible namespace for /Users/sairajpotluri/opt/anaconda3/lib/python3.9/site-packages/google\r\n",
      "# possible namespace for /Users/sairajpotluri/opt/anaconda3/lib/python3.9/site-packages/google\r\n",
      "# destroy google\r\n",
      "# possible namespace for /Users/sairajpotluri/opt/anaconda3/lib/python3.9/site-packages/google\r\n",
      "# destroy google\r\n",
      "# possible namespace for /Users/sairajpotluri/opt/anaconda3/lib/python3.9/site-packages/google\r\n",
      "# destroy google\r\n",
      "# possible namespace for /Users/sairajpotluri/opt/anaconda3/lib/python3.9/site-packages/google/cloud\r\n",
      "# possible namespace for /Users/sairajpotluri/opt/anaconda3/lib/python3.9/site-packages/google\r\n",
      "# destroy google\r\n",
      "# possible namespace for /Users/sairajpotluri/opt/anaconda3/lib/python3.9/site-packages/google\r\n",
      "# destroy google\r\n",
      "# possible namespace for /Users/sairajpotluri/opt/anaconda3/lib/python3.9/site-packages/google/cloud\r\n",
      "# destroy google.cloud\r\n",
      "# possible namespace for /Users/sairajpotluri/opt/anaconda3/lib/python3.9/site-packages/google\r\n",
      "# destroy google\r\n",
      "# possible namespace for /Users/sairajpotluri/opt/anaconda3/lib/python3.9/site-packages/google\r\n",
      "# destroy google\r\n",
      "# possible namespace for /Users/sairajpotluri/opt/anaconda3/lib/python3.9/site-packages/google\r\n",
      "# destroy google\r\n",
      "# possible namespace for /Users/sairajpotluri/opt/anaconda3/lib/python3.9/site-packages/google/logging\r\n",
      "# possible namespace for /Users/sairajpotluri/opt/anaconda3/lib/python3.9/site-packages/mpl_toolkits\r\n",
      "# possible namespace for /Users/sairajpotluri/opt/anaconda3/lib/python3.9/site-packages/google\r\n",
      "# destroy google\r\n",
      "# possible namespace for /Users/sairajpotluri/opt/anaconda3/lib/python3.9/site-packages/sphinxcontrib\r\n",
      "# possible namespace for /Users/sairajpotluri/opt/anaconda3/lib/python3.9/site-packages/sphinxcontrib\r\n",
      "# destroy sphinxcontrib\r\n",
      "# possible namespace for /Users/sairajpotluri/opt/anaconda3/lib/python3.9/site-packages/sphinxcontrib\r\n",
      "# destroy sphinxcontrib\r\n"
     ]
    },
    {
     "name": "stdout",
     "output_type": "stream",
     "text": [
      "# possible namespace for /Users/sairajpotluri/opt/anaconda3/lib/python3.9/site-packages/sphinxcontrib\n",
      "# destroy sphinxcontrib\n",
      "# possible namespace for /Users/sairajpotluri/opt/anaconda3/lib/python3.9/site-packages/sphinxcontrib\n",
      "# destroy sphinxcontrib\n",
      "# possible namespace for /Users/sairajpotluri/opt/anaconda3/lib/python3.9/site-packages/sphinxcontrib\n",
      "# destroy sphinxcontrib\n",
      "import 'site' # <_frozen_importlib_external.SourceFileLoader object at 0x7fc24162abb0>\n",
      "Python 3.9.12 (main, Apr  5 2022, 01:53:17) \n",
      "[Clang 12.0.0 ] :: Anaconda, Inc. on darwin\n",
      "Type \"help\", \"copyright\", \"credits\" or \"license\" for more information.\n",
      "# extension module 'readline' loaded from '/Users/sairajpotluri/opt/anaconda3/lib/python3.9/lib-dynload/readline.cpython-39-darwin.so'\n",
      "# extension module 'readline' executed from '/Users/sairajpotluri/opt/anaconda3/lib/python3.9/lib-dynload/readline.cpython-39-darwin.so'\n",
      "import 'readline' # <_frozen_importlib_external.ExtensionFileLoader object at 0x7fc244a62d30>\n",
      "import 'atexit' # <class '_frozen_importlib.BuiltinImporter'>\n",
      "# /Users/sairajpotluri/opt/anaconda3/lib/python3.9/__pycache__/rlcompleter.cpython-39.pyc matches /Users/sairajpotluri/opt/anaconda3/lib/python3.9/rlcompleter.py\n",
      "# code object from '/Users/sairajpotluri/opt/anaconda3/lib/python3.9/__pycache__/rlcompleter.cpython-39.pyc'\n",
      "import 'rlcompleter' # <_frozen_importlib_external.SourceFileLoader object at 0x7fc244a62040>\n",
      ">>> "
     ]
    }
   ],
   "source": [
    "!python -v"
   ]
  },
  {
   "cell_type": "code",
   "execution_count": 1,
   "id": "6fc0fec7",
   "metadata": {},
   "outputs": [
    {
     "data": {
      "text/plain": [
       "5"
      ]
     },
     "execution_count": 1,
     "metadata": {},
     "output_type": "execute_result"
    }
   ],
   "source": [
    "2+3\n"
   ]
  },
  {
   "cell_type": "code",
   "execution_count": 4,
   "id": "c84238c6",
   "metadata": {},
   "outputs": [
    {
     "name": "stdout",
     "output_type": "stream",
     "text": [
      "10\n",
      "50\n"
     ]
    }
   ],
   "source": [
    "a=10\n",
    "print(a)\n",
    "a=a*5\n",
    "print(a)\n",
    "#comments"
   ]
  },
  {
   "cell_type": "code",
   "execution_count": null,
   "id": "7be25949",
   "metadata": {},
   "outputs": [],
   "source": []
  }
 ],
 "metadata": {
  "kernelspec": {
   "display_name": "Python 3 (ipykernel)",
   "language": "python",
   "name": "python3"
  },
  "language_info": {
   "codemirror_mode": {
    "name": "ipython",
    "version": 3
   },
   "file_extension": ".py",
   "mimetype": "text/x-python",
   "name": "python",
   "nbconvert_exporter": "python",
   "pygments_lexer": "ipython3",
   "version": "3.9.12"
  }
 },
 "nbformat": 4,
 "nbformat_minor": 5
}
